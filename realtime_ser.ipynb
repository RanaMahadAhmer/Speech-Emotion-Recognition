{
 "nbformat": 4,
 "nbformat_minor": 0,
 "metadata": {
  "kernelspec": {
   "display_name": "Python 3",
   "language": "python",
   "name": "python3"
  },
  "language_info": {
   "codemirror_mode": {
    "name": "ipython",
    "version": 3
   },
   "file_extension": ".py",
   "mimetype": "text/x-python",
   "name": "python",
   "nbconvert_exporter": "python",
   "pygments_lexer": "ipython3",
   "version": "3.8.5"
  },
  "colab": {
   "name": "3_realtime_ser.ipynb",
   "provenance": [],
   "collapsed_sections": [],
   "toc_visible": true,
   "include_colab_link": true
  }
 },
 "cells": [
  {
   "cell_type": "markdown",
   "metadata": {
    "id": "B2QAnJ2-D_G0"
   },
   "source": [
    "# **Speech Emotion Recognition (Classification) using Deep LSTM**\n",
    "***Real-time implementation of the SER model***\n",
    "---\n",
    "\n"
   ]
  },
  {
   "cell_type": "markdown",
   "metadata": {
    "id": "7Gcq7z02GfSH"
   },
   "source": [
    "### ABSTRACT\n",
    "This implementation of the speech emotion recognition (SER) model aims to analyze speech audio input in real-time, identify and present the emotions expressed.\n",
    "\n",
    "The model, an LSTM-based deep learning network with an accuracy of 83%, has learned to accurately classify emotions conveyed in long sequences of speech features extracted from audio signals.\n",
    "The system records audio input, creates a temporary `.wav` file, preprocesses it, and presents the distribution of detected emotions in the speech. The chosen sequence length for analysis is 7.1 seconds.\n",
    "The process continues as long as continuous speech is detected. If there is silence for 2 seconds or more at the end of a sentence, the process stops. At the end of a session, a summary is presented, providing the mean values of all emotions recognized throughout the session.\n"
   ]
  },
  {
   "cell_type": "markdown",
   "metadata": {
    "id": "ZGNQaFNUEQMm"
   },
   "source": [
    "### LIBRARIES\n",
    "Import the necessary Python libraries and install any missing dependencies.\n"
   ]
  },
  {
   "cell_type": "code",
   "metadata": {
    "id": "lA4vLC6ID715",
    "ExecuteTime": {
     "end_time": "2024-05-14T10:35:55.912320Z",
     "start_time": "2024-05-14T10:35:50.629745Z"
    }
   },
   "source": [
    "%%capture\n",
    "!pip install pydub noisereduce pyaudio json-tricks"
   ],
   "outputs": [],
   "execution_count": 1
  },
  {
   "cell_type": "code",
   "metadata": {
    "id": "V4cVP0NmD71-",
    "ExecuteTime": {
     "end_time": "2024-05-14T10:36:07.173763Z",
     "start_time": "2024-05-14T10:35:55.912320Z"
    }
   },
   "source": [
    "%%capture\n",
    "import numpy as np\n",
    "import librosa\n",
    "from pydub import AudioSegment, effects\n",
    "import noisereduce as nr\n",
    "import tensorflow as tf\n",
    "import matplotlib.pyplot as plt\n",
    "import IPython.display as ipd\n"
   ],
   "outputs": [],
   "execution_count": 2
  },
  {
   "cell_type": "markdown",
   "metadata": {
    "id": "lSjs9TReEUls"
   },
   "source": [
    "# **LOAD MODEL**\n",
    "Loading the speech emotion recognition LSTM model and weights."
   ]
  },
  {
   "cell_type": "code",
   "metadata": {
    "colab": {
     "base_uri": "https://localhost:8080/"
    },
    "id": "i6qXd1-vD72A",
    "outputId": "9a687758-6391-4ec5-ec83-e52bb0f5ffc9",
    "ExecuteTime": {
     "end_time": "2024-05-14T10:36:07.456805Z",
     "start_time": "2024-05-14T10:36:07.173763Z"
    }
   },
   "source": [
    "saved_model_path = 'output/model.json'\n",
    "saved_weights_path = 'output/model.weights.h5'\n",
    "\n",
    "with open(saved_model_path, 'r') as json_file:\n",
    "    json_savedModel = json_file.read()\n",
    "\n",
    "model = tf.keras.models.model_from_json(json_savedModel)\n",
    "model.load_weights(saved_weights_path)\n",
    "\n",
    "model.compile(loss='categorical_crossentropy',\n",
    "              optimizer='RMSProp',\n",
    "              metrics=['categorical_accuracy'])\n",
    "print(model.summary())"
   ],
   "outputs": [
    {
     "data": {
      "text/plain": [
       "\u001B[1mModel: \"sequential_3\"\u001B[0m\n"
      ],
      "text/html": [
       "<pre style=\"white-space:pre;overflow-x:auto;line-height:normal;font-family:Menlo,'DejaVu Sans Mono',consolas,'Courier New',monospace\"><span style=\"font-weight: bold\">Model: \"sequential_3\"</span>\n",
       "</pre>\n"
      ]
     },
     "metadata": {},
     "output_type": "display_data"
    },
    {
     "data": {
      "text/plain": [
       "┏━━━━━━━━━━━━━━━━━━━━━━━━━━━━━━━━━┳━━━━━━━━━━━━━━━━━━━━━━━━┳━━━━━━━━━━━━━━━┓\n",
       "┃\u001B[1m \u001B[0m\u001B[1mLayer (type)                   \u001B[0m\u001B[1m \u001B[0m┃\u001B[1m \u001B[0m\u001B[1mOutput Shape          \u001B[0m\u001B[1m \u001B[0m┃\u001B[1m \u001B[0m\u001B[1m      Param #\u001B[0m\u001B[1m \u001B[0m┃\n",
       "┡━━━━━━━━━━━━━━━━━━━━━━━━━━━━━━━━━╇━━━━━━━━━━━━━━━━━━━━━━━━╇━━━━━━━━━━━━━━━┩\n",
       "│ lstm_6 (\u001B[38;5;33mLSTM\u001B[0m)                   │ (\u001B[38;5;45mNone\u001B[0m, \u001B[38;5;34m729\u001B[0m, \u001B[38;5;34m64\u001B[0m)        │        \u001B[38;5;34m20,480\u001B[0m │\n",
       "├─────────────────────────────────┼────────────────────────┼───────────────┤\n",
       "│ lstm_7 (\u001B[38;5;33mLSTM\u001B[0m)                   │ (\u001B[38;5;45mNone\u001B[0m, \u001B[38;5;34m64\u001B[0m)             │        \u001B[38;5;34m33,024\u001B[0m │\n",
       "├─────────────────────────────────┼────────────────────────┼───────────────┤\n",
       "│ dense_3 (\u001B[38;5;33mDense\u001B[0m)                 │ (\u001B[38;5;45mNone\u001B[0m, \u001B[38;5;34m8\u001B[0m)              │           \u001B[38;5;34m520\u001B[0m │\n",
       "└─────────────────────────────────┴────────────────────────┴───────────────┘\n"
      ],
      "text/html": [
       "<pre style=\"white-space:pre;overflow-x:auto;line-height:normal;font-family:Menlo,'DejaVu Sans Mono',consolas,'Courier New',monospace\">┏━━━━━━━━━━━━━━━━━━━━━━━━━━━━━━━━━┳━━━━━━━━━━━━━━━━━━━━━━━━┳━━━━━━━━━━━━━━━┓\n",
       "┃<span style=\"font-weight: bold\"> Layer (type)                    </span>┃<span style=\"font-weight: bold\"> Output Shape           </span>┃<span style=\"font-weight: bold\">       Param # </span>┃\n",
       "┡━━━━━━━━━━━━━━━━━━━━━━━━━━━━━━━━━╇━━━━━━━━━━━━━━━━━━━━━━━━╇━━━━━━━━━━━━━━━┩\n",
       "│ lstm_6 (<span style=\"color: #0087ff; text-decoration-color: #0087ff\">LSTM</span>)                   │ (<span style=\"color: #00d7ff; text-decoration-color: #00d7ff\">None</span>, <span style=\"color: #00af00; text-decoration-color: #00af00\">729</span>, <span style=\"color: #00af00; text-decoration-color: #00af00\">64</span>)        │        <span style=\"color: #00af00; text-decoration-color: #00af00\">20,480</span> │\n",
       "├─────────────────────────────────┼────────────────────────┼───────────────┤\n",
       "│ lstm_7 (<span style=\"color: #0087ff; text-decoration-color: #0087ff\">LSTM</span>)                   │ (<span style=\"color: #00d7ff; text-decoration-color: #00d7ff\">None</span>, <span style=\"color: #00af00; text-decoration-color: #00af00\">64</span>)             │        <span style=\"color: #00af00; text-decoration-color: #00af00\">33,024</span> │\n",
       "├─────────────────────────────────┼────────────────────────┼───────────────┤\n",
       "│ dense_3 (<span style=\"color: #0087ff; text-decoration-color: #0087ff\">Dense</span>)                 │ (<span style=\"color: #00d7ff; text-decoration-color: #00d7ff\">None</span>, <span style=\"color: #00af00; text-decoration-color: #00af00\">8</span>)              │           <span style=\"color: #00af00; text-decoration-color: #00af00\">520</span> │\n",
       "└─────────────────────────────────┴────────────────────────┴───────────────┘\n",
       "</pre>\n"
      ]
     },
     "metadata": {},
     "output_type": "display_data"
    },
    {
     "data": {
      "text/plain": [
       "\u001B[1m Total params: \u001B[0m\u001B[38;5;34m54,024\u001B[0m (211.03 KB)\n"
      ],
      "text/html": [
       "<pre style=\"white-space:pre;overflow-x:auto;line-height:normal;font-family:Menlo,'DejaVu Sans Mono',consolas,'Courier New',monospace\"><span style=\"font-weight: bold\"> Total params: </span><span style=\"color: #00af00; text-decoration-color: #00af00\">54,024</span> (211.03 KB)\n",
       "</pre>\n"
      ]
     },
     "metadata": {},
     "output_type": "display_data"
    },
    {
     "data": {
      "text/plain": [
       "\u001B[1m Trainable params: \u001B[0m\u001B[38;5;34m54,024\u001B[0m (211.03 KB)\n"
      ],
      "text/html": [
       "<pre style=\"white-space:pre;overflow-x:auto;line-height:normal;font-family:Menlo,'DejaVu Sans Mono',consolas,'Courier New',monospace\"><span style=\"font-weight: bold\"> Trainable params: </span><span style=\"color: #00af00; text-decoration-color: #00af00\">54,024</span> (211.03 KB)\n",
       "</pre>\n"
      ]
     },
     "metadata": {},
     "output_type": "display_data"
    },
    {
     "data": {
      "text/plain": [
       "\u001B[1m Non-trainable params: \u001B[0m\u001B[38;5;34m0\u001B[0m (0.00 B)\n"
      ],
      "text/html": [
       "<pre style=\"white-space:pre;overflow-x:auto;line-height:normal;font-family:Menlo,'DejaVu Sans Mono',consolas,'Courier New',monospace\"><span style=\"font-weight: bold\"> Non-trainable params: </span><span style=\"color: #00af00; text-decoration-color: #00af00\">0</span> (0.00 B)\n",
       "</pre>\n"
      ]
     },
     "metadata": {},
     "output_type": "display_data"
    },
    {
     "name": "stdout",
     "output_type": "stream",
     "text": [
      "None\n"
     ]
    }
   ],
   "execution_count": 3
  },
  {
   "cell_type": "markdown",
   "metadata": {
    "id": "qIrA6eoQGMiH"
   },
   "source": [
    "# **DATA PREPROCESSING**\n",
    "\n",
    "Speech features are extracted are:\n",
    "1.   Energy - Root Mean Square (RMS)\n",
    "2.   Zero Crossed Rate (ZCR)\n",
    "3.   Mel-frequency cepstral coefficients (MFCCs) \n",
    "\n",
    "\n",
    "\n"
   ]
  },
  {
   "cell_type": "code",
   "metadata": {
    "id": "WyCwGZaeD72C",
    "ExecuteTime": {
     "end_time": "2024-05-14T10:36:07.470501Z",
     "start_time": "2024-05-14T10:36:07.456805Z"
    }
   },
   "source": [
    "def pre_process(file_path, frame_length=2048, hop_length=512):\n",
    "    _, sr = librosa.load(path=file_path, sr=None)\n",
    "    raw_sound = AudioSegment.from_file(file_path, duration=None)\n",
    "    normalized_sound = effects.normalize(raw_sound, headroom=5.0)\n",
    "    normal_x = np.array(normalized_sound.get_array_of_samples(), dtype='float32')\n",
    "    final_x = nr.reduce_noise(normal_x, sr=sr)\n",
    "    f1 = librosa.feature.rms(y=final_x, frame_length=frame_length, hop_length=hop_length, center=True,\n",
    "                             pad_mode='reflect').T\n",
    "    f2 = librosa.feature.zero_crossing_rate(final_x, frame_length=frame_length, hop_length=hop_length,\n",
    "                                            center=True).T\n",
    "    f3 = librosa.feature.mfcc(y=final_x, sr=sr, S=None, n_mfcc=13, hop_length=hop_length).T  # MFCC   \n",
    "    x = np.concatenate((f1, f2, f3), axis=1)\n",
    "    x_3d = np.expand_dims(x, axis=0)\n",
    "    return x_3d"
   ],
   "outputs": [],
   "execution_count": 4
  },
  {
   "cell_type": "markdown",
   "metadata": {
    "id": "zuiRFk30CDGs"
   },
   "source": [
    "# **ADDITIONAL SETUP**\n",
    "- An **emotion list** is defined to translate the model prediction output to a readable form.\n",
    "\n",
    "- `is_silent` function is executed as a boolean state if silence of sequential audio was found. `is_silent` returns `True` when the maximum signal within the sequence is less than the threshold value defined."
   ]
  },
  {
   "cell_type": "code",
   "metadata": {
    "id": "vXfNZp8qD72D",
    "ExecuteTime": {
     "end_time": "2024-05-14T10:36:07.480609Z",
     "start_time": "2024-05-14T10:36:07.471506Z"
    }
   },
   "source": [
    "emotions = {\n",
    "    0: 'neutral',\n",
    "    1: 'calm',\n",
    "    2: 'happy',\n",
    "    3: 'sad',\n",
    "    4: 'angry',\n",
    "    5: 'fearful',\n",
    "    6: 'disgust',\n",
    "    7: 'surprised'\n",
    "}\n",
    "emotion_list = list(emotions.values())\n",
    "\n",
    "\n",
    "def is_silent(data):\n",
    "    return max(data) < 100\n"
   ],
   "outputs": [],
   "execution_count": 5
  },
  {
   "cell_type": "markdown",
   "metadata": {
    "id": "4nmp_ojL4Urt"
   },
   "source": [
    "# **REAL-TIME IMPLEMENTATION**\n",
    "\n",
    "This implementation of an LSTM Speech Emotion Recognition model carries out a real-time emotion prediction of an audio input, recorded from the soundcard of the platform.\n",
    "The process includes the following:\n",
    "\n",
    "\n",
    "## **VARIABLES EXPLAINED**\n",
    "RATE = Sample rate = 24414 which is the sample rate of most of the model's train data.\n",
    "CHUNK = A batch of sequential samples to process at once. Similar to 'hop_length' by `librosa`, defined 512.\n",
    "FORMAT = Sampling size and format, 32bit as in the model.\n",
    "CHANNELS = 1 for mono, a standard of audio recording in PC / cellphones."
   ]
  },
  {
   "cell_type": "code",
   "metadata": {
    "id": "4s4DyZckD72E",
    "outputId": "862921df-ad36-4b23-9532-81762f128793",
    "ExecuteTime": {
     "end_time": "2024-05-14T10:36:24.213780Z",
     "start_time": "2024-05-14T10:36:07.480609Z"
    }
   },
   "source": [
    "import pyaudio\n",
    "import wave\n",
    "from array import array\n",
    "import struct\n",
    "import time\n",
    "\n",
    "# Initialize variables\n",
    "RATE = 24414\n",
    "CHUNK = 512\n",
    "RECORD_SECONDS = 7.1\n",
    "\n",
    "FORMAT = pyaudio.paInt32\n",
    "CHANNELS = 1\n",
    "WAVE_OUTPUT_FILE = \"1.wav\"\n",
    "\n",
    "# Open an input channel\n",
    "p = pyaudio.PyAudio()\n",
    "stream = p.open(format=FORMAT,\n",
    "                channels=CHANNELS,\n",
    "                rate=RATE,\n",
    "                input=True,\n",
    "                frames_per_buffer=CHUNK)\n",
    "\n",
    "data = array('h', np.random.randint(size=512, low=0, high=500))\n",
    "\n",
    "print(\"Session Initiated: \")\n",
    "total_predictions = []\n",
    "tic = time.perf_counter()\n",
    "\n",
    "while not is_silent(data):\n",
    "    print(\"ongoing recording.\")\n",
    "    frames = []\n",
    "    data = np.nan\n",
    "\n",
    "    time_steps = int(RATE / CHUNK * RECORD_SECONDS)  # => 339\n",
    "\n",
    "    for i in range(0, time_steps):\n",
    "        data = array('l', stream.read(CHUNK))\n",
    "        frames.append(data)\n",
    "\n",
    "        wf = wave.open(WAVE_OUTPUT_FILE, 'wb')\n",
    "        wf.setnchannels(CHANNELS)\n",
    "        wf.setsampwidth(p.get_sample_size(FORMAT))\n",
    "        wf.setframerate(RATE)\n",
    "        wf.writeframes(b''.join(frames))\n",
    "\n",
    "    print(\"* done recording\")\n",
    "\n",
    "    x = pre_process(WAVE_OUTPUT_FILE)\n",
    "    predictions = model.predict(x)\n",
    "    pred_list = list(predictions)\n",
    "    pred_np = np.squeeze(np.array(pred_list).tolist(), axis=0)\n",
    "    total_predictions.append(pred_np)\n",
    "\n",
    "    fig = plt.figure(figsize=(10, 2))\n",
    "    plt.bar(emotion_list, pred_np, color='darkturquoise')\n",
    "    plt.ylabel(\"Probability (%)\")\n",
    "    plt.show()\n",
    "    max_emo = np.argmax(predictions)\n",
    "    print('Max emotion in this iteration:', emotions.get(max_emo, -1))\n",
    "\n",
    "    print(100 * '-')\n",
    "\n",
    "    last_frames = np.array(\n",
    "        struct.unpack(str(96 * CHUNK) + 'B', np.stack((frames[-1], frames[-2], frames[-3], frames[-4],\n",
    "                                                       frames[-5], frames[-6], frames[-7], frames[-8],\n",
    "                                                       frames[-9], frames[-10], frames[-11], frames[-12],\n",
    "                                                       frames[-13], frames[-14], frames[-15], frames[-16],\n",
    "                                                       frames[-17], frames[-18], frames[-19], frames[-20],\n",
    "                                                       frames[-21], frames[-22], frames[-23], frames[-24]),\n",
    "                                                      axis=0))).astype(dtype='b')\n",
    "\n",
    "    if is_silent(last_frames):\n",
    "        break\n",
    "\n",
    "toc = time.perf_counter()\n",
    "stream.stop_stream()\n",
    "stream.close()\n",
    "p.terminate()\n",
    "wf.close()\n",
    "print('Session ended:')\n",
    "\n",
    "total_predictions_np = np.mean(np.array(total_predictions).tolist(), axis=0)\n",
    "fig = plt.figure(figsize=(10, 5))\n",
    "plt.bar(emotion_list, total_predictions_np, color='indigo')\n",
    "plt.ylabel(\"Mean probability % \")\n",
    "plt.title(\"Session Summary\")\n",
    "plt.show()\n",
    "\n",
    "print(f\"Emotions analyzed for: {(toc - tic):0.4f} seconds\")\n",
    "\n"
   ],
   "outputs": [
    {
     "name": "stdout",
     "output_type": "stream",
     "text": [
      "Session Initiated: \n",
      "ongoing recording.\n",
      "* done recording\n",
      "\u001B[1m1/1\u001B[0m \u001B[32m━━━━━━━━━━━━━━━━━━━━\u001B[0m\u001B[37m\u001B[0m \u001B[1m0s\u001B[0m 393ms/step\n"
     ]
    },
    {
     "data": {
      "text/plain": [
       "<Figure size 1000x200 with 1 Axes>"
      ],
      "image/png": "[encoded data removed]"
     },
     "metadata": {},
     "output_type": "display_data"
    },
    {
     "name": "stdout",
     "output_type": "stream",
     "text": [
      "Max emotion in this iteration: disgust\n",
      "----------------------------------------------------------------------------------------------------\n",
      "ongoing recording.\n",
      "* done recording\n",
      "\u001B[1m1/1\u001B[0m \u001B[32m━━━━━━━━━━━━━━━━━━━━\u001B[0m\u001B[37m\u001B[0m \u001B[1m0s\u001B[0m 80ms/step\n"
     ]
    },
    {
     "data": {
      "text/plain": [
       "<Figure size 1000x200 with 1 Axes>"
      ],
      "image/png": "[encoded data removed]"
     },
     "metadata": {},
     "output_type": "display_data"
    },
    {
     "name": "stdout",
     "output_type": "stream",
     "text": [
      "Max emotion in this iteration: disgust\n",
      "----------------------------------------------------------------------------------------------------\n",
      "Session ended:\n"
     ]
    },
    {
     "data": {
      "text/plain": [
       "<Figure size 1000x500 with 1 Axes>"
      ],
      "image/png": "[encoded data removed]"
     },
     "metadata": {},
     "output_type": "display_data"
    },
    {
     "name": "stdout",
     "output_type": "stream",
     "text": [
      "Emotions analyzed for: 15.9879 seconds\n"
     ]
    }
   ],
   "execution_count": 6
  }
 ]
}
